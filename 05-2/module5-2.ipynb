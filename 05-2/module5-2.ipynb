{
 "cells": [
  {
   "cell_type": "markdown",
   "metadata": {},
   "source": [
    "Creating a Softmax Function "
   ]
  },
  {
   "cell_type": "code",
   "execution_count": 2,
   "metadata": {},
   "outputs": [],
   "source": [
    "import numpy as np"
   ]
  },
  {
   "cell_type": "code",
   "execution_count": 3,
   "metadata": {},
   "outputs": [],
   "source": [
    "def softmax(a):\n",
    "    return np.exp(a)/np.sum(np.exp(a))"
   ]
  },
  {
   "cell_type": "code",
   "execution_count": 4,
   "metadata": {},
   "outputs": [],
   "source": [
    "''' \n",
    "This softmax function works on small values, as we can see in the example below \n",
    "'''\n",
    "\n",
    "a = np.array([10, 20, 30])\n",
    "s = softmax(a)"
   ]
  },
  {
   "cell_type": "code",
   "execution_count": 5,
   "metadata": {},
   "outputs": [
    {
     "name": "stderr",
     "output_type": "stream",
     "text": [
      "C:\\Users\\Mukul\\AppData\\Local\\Temp\\ipykernel_6880\\2942892012.py:2: RuntimeWarning: overflow encountered in exp\n",
      "  return np.exp(a)/np.sum(np.exp(a))\n",
      "C:\\Users\\Mukul\\AppData\\Local\\Temp\\ipykernel_6880\\2942892012.py:2: RuntimeWarning: invalid value encountered in divide\n",
      "  return np.exp(a)/np.sum(np.exp(a))\n"
     ]
    }
   ],
   "source": [
    "''' \n",
    "But what about bigger values\n",
    "'''\n",
    "a = np.array([900, 1000])\n",
    "s = softmax(a)"
   ]
  },
  {
   "cell_type": "markdown",
   "metadata": {},
   "source": [
    "Trying to change the softmax function to remove the overdlow error "
   ]
  },
  {
   "cell_type": "code",
   "execution_count": 6,
   "metadata": {},
   "outputs": [],
   "source": [
    "''' \n",
    " subtracting the maximum value for numerical stability\n",
    "'''\n",
    "def softmax(a):\n",
    "    c = np.max(a)\n",
    "    exp_a = np.exp(a - c)\n",
    "    return exp_a/np.sum(exp_a)"
   ]
  },
  {
   "cell_type": "code",
   "execution_count": 10,
   "metadata": {},
   "outputs": [
    {
     "data": {
      "text/plain": [
       "array([3.72007598e-44, 1.00000000e+00])"
      ]
     },
     "execution_count": 10,
     "metadata": {},
     "output_type": "execute_result"
    }
   ],
   "source": [
    "a = np.array([900, 1000])\n",
    "s = softmax(a) \n",
    "# overflow porblem solved\n",
    "s"
   ]
  },
  {
   "cell_type": "markdown",
   "metadata": {},
   "source": [
    "implementing MNIST Dataset and different functions "
   ]
  },
  {
   "cell_type": "code",
   "execution_count": 11,
   "metadata": {},
   "outputs": [],
   "source": [
    "''' \n",
    "First we will import all necessary libraries \n",
    "'''\n",
    "import urllib\n",
    "import gzip\n",
    "import numpy as np\n",
    "import pickle\n",
    "import os\n",
    "\n"
   ]
  },
  {
   "cell_type": "code",
   "execution_count": 15,
   "metadata": {},
   "outputs": [],
   "source": [
    "\n",
    "\n",
    "image_size = 28*28\n",
    "dataset_dir = 'dataset'\n",
    "dataset_pkl = 'mnist.pkl'\n",
    "url_base = 'http://jrkwon.com/data/ece5831/mnist/' # 'https://yann.lecun.com/exdb/mnist/'\n",
    "\n",
    "#since the commented link doesnt work anymore we use a different link"
   ]
  },
  {
   "cell_type": "code",
   "execution_count": 16,
   "metadata": {},
   "outputs": [],
   "source": [
    "key_file = {\n",
    "    'train_images': 'train-images-idx3-ubyte.gz',\n",
    "    'train_labels': 'train-labels-idx1-ubyte.gz',\n",
    "    'test_images':  't10k-images-idx3-ubyte.gz',\n",
    "    'test_labels':  't10k-labels-idx1-ubyte.gz'\n",
    "}"
   ]
  },
  {
   "cell_type": "markdown",
   "metadata": {},
   "source": [
    "Creating a directory named dataset"
   ]
  },
  {
   "cell_type": "code",
   "execution_count": 20,
   "metadata": {},
   "outputs": [],
   "source": [
    "dataset_dir = 'dataset'\n",
    "if not os.path.exists(dataset_dir):\n",
    "    os.makedirs(dataset_dir)"
   ]
  },
  {
   "cell_type": "markdown",
   "metadata": {},
   "source": [
    "Downloading train_images in the dataset directory"
   ]
  },
  {
   "cell_type": "code",
   "execution_count": 21,
   "metadata": {},
   "outputs": [
    {
     "data": {
      "text/plain": [
       "('dataset/train-images-idx3-ubyte.gz',\n",
       " <http.client.HTTPMessage at 0x26c3b5ce710>)"
      ]
     },
     "execution_count": 21,
     "metadata": {},
     "output_type": "execute_result"
    }
   ],
   "source": [
    "file_name = key_file['train_images']\n",
    "file_path = url_base + file_name\n",
    "\n",
    "# to resolve 406 Not Acceptable error\n",
    "opener = urllib.request.build_opener()\n",
    "opener.addheaders = [('Accept', '')]\n",
    "urllib.request.install_opener(opener)\n",
    "\n",
    "# downloading the file\n",
    "urllib.request.urlretrieve(file_path, dataset_dir + '/' + file_name)"
   ]
  },
  {
   "cell_type": "markdown",
   "metadata": {},
   "source": [
    "Creating a _download() function to download dataset easily"
   ]
  },
  {
   "cell_type": "code",
   "execution_count": 22,
   "metadata": {},
   "outputs": [],
   "source": [
    "def _download(file_name):\n",
    "    file_path = dataset_dir + '/' + file_name\n",
    "\n",
    "    if (os.path.exists(file_path)):\n",
    "        print(f'File: {file_name} already exists.')\n",
    "        return\n",
    "    \n",
    "    print(f'Downloading {file_name}...')\n",
    "\n",
    "    # to resolve 406 Not Acceptable error\n",
    "    opener = urllib.request.build_opener()\n",
    "    opener.addheaders = [('Accept', '')]\n",
    "    urllib.request.install_opener(opener)\n",
    "\n",
    "    urllib.request.urlretrieve(url_base + file_name, file_path)\n",
    "    print('Done')"
   ]
  },
  {
   "cell_type": "markdown",
   "metadata": {},
   "source": [
    "Creating a function _download_all() to download all datasets at once "
   ]
  },
  {
   "cell_type": "code",
   "execution_count": 24,
   "metadata": {},
   "outputs": [],
   "source": [
    "def _download_all():\n",
    "    for file_name in key_file.values():\n",
    "        _download(file_name)"
   ]
  },
  {
   "cell_type": "code",
   "execution_count": 25,
   "metadata": {},
   "outputs": [
    {
     "name": "stdout",
     "output_type": "stream",
     "text": [
      "File: train-images-idx3-ubyte.gz already exists.\n",
      "Downloading train-labels-idx1-ubyte.gz...\n",
      "Done\n",
      "Downloading t10k-images-idx3-ubyte.gz...\n",
      "Done\n",
      "Downloading t10k-labels-idx1-ubyte.gz...\n",
      "Done\n"
     ]
    }
   ],
   "source": [
    "_download_all()"
   ]
  },
  {
   "cell_type": "markdown",
   "metadata": {},
   "source": [
    "Defining _load_images function to load images from dataset"
   ]
  },
  {
   "cell_type": "code",
   "execution_count": 26,
   "metadata": {},
   "outputs": [],
   "source": [
    "def _load_images(file_name):\n",
    "    with gzip.open(file_name, 'rb') as f:\n",
    "        images = np.frombuffer(f.read(), np.uint8, offset=16)\n",
    "    images = images.reshape(-1, image_size)\n",
    "\n",
    "    return images"
   ]
  },
  {
   "cell_type": "code",
   "execution_count": 27,
   "metadata": {},
   "outputs": [],
   "source": [
    "images = _load_images(dataset_dir + '/' + key_file['test_images'])"
   ]
  },
  {
   "cell_type": "markdown",
   "metadata": {},
   "source": [
    "Plotting images using matplotlyb"
   ]
  },
  {
   "cell_type": "code",
   "execution_count": 45,
   "metadata": {},
   "outputs": [
    {
     "data": {
      "text/plain": [
       "<matplotlib.image.AxesImage at 0x26c3f4dddb0>"
      ]
     },
     "execution_count": 45,
     "metadata": {},
     "output_type": "execute_result"
    },
    {
     "data": {
      "image/png": "[encoded data removed]",
      "text/plain": [
       "<Figure size 640x480 with 1 Axes>"
      ]
     },
     "metadata": {},
     "output_type": "display_data"
    }
   ],
   "source": [
    "import matplotlib.pyplot as plt\n",
    "idx = 222\n",
    "a = images[idx].reshape(28,28)\n",
    "plt.imshow(a)"
   ]
  },
  {
   "cell_type": "markdown",
   "metadata": {},
   "source": [
    "Defining _load_labels to check if labels matches image"
   ]
  },
  {
   "cell_type": "code",
   "execution_count": 32,
   "metadata": {},
   "outputs": [],
   "source": [
    "def _load_labels(file_name):\n",
    "    with gzip.open(file_name, 'rb') as f:\n",
    "        labels = np.frombuffer(f.read(), np.uint8, offset=8)\n",
    "\n",
    "    return labels"
   ]
  },
  {
   "cell_type": "code",
   "execution_count": 33,
   "metadata": {},
   "outputs": [],
   "source": [
    "labels = _load_labels(f\"{dataset_dir}/{key_file['test_labels']}\")"
   ]
  },
  {
   "cell_type": "code",
   "execution_count": 46,
   "metadata": {},
   "outputs": [
    {
     "data": {
      "text/plain": [
       "2"
      ]
     },
     "execution_count": 46,
     "metadata": {},
     "output_type": "execute_result"
    }
   ],
   "source": [
    "labels[idx]"
   ]
  },
  {
   "cell_type": "markdown",
   "metadata": {},
   "source": [
    "Creating a function _create_dataset()"
   ]
  },
  {
   "cell_type": "code",
   "execution_count": 37,
   "metadata": {},
   "outputs": [],
   "source": [
    "def _create_dataset():\n",
    "    dataset = {}\n",
    "    dataset['train_images'] = _load_images(f\"{dataset_dir}/{key_file['train_images']}\")\n",
    "    dataset['train_labels'] = _load_labels(f\"{dataset_dir}/{key_file['train_labels']}\")\n",
    "    dataset['test_images']  = _load_images(f\"{dataset_dir}/{key_file['test_images']}\")\n",
    "    dataset['test_labels']  = _load_labels(f\"{dataset_dir}/{key_file['test_labels']}\")\n",
    "\n",
    "    with open(f'{dataset_dir}/{dataset_pkl}', 'wb') as f:\n",
    "        print(f'Pickle: {dataset_dir}/{dataset_pkl} is being created.')\n",
    "        pickle.dump(dataset, f)\n",
    "        print('Done.') \n",
    "           \n",
    "    return dataset"
   ]
  },
  {
   "cell_type": "code",
   "execution_count": 38,
   "metadata": {},
   "outputs": [
    {
     "name": "stdout",
     "output_type": "stream",
     "text": [
      "Pickle: dataset/mnist.pkl is being created.\n",
      "Done.\n"
     ]
    }
   ],
   "source": [
    "dataset = _create_dataset()"
   ]
  },
  {
   "cell_type": "code",
   "execution_count": 47,
   "metadata": {},
   "outputs": [
    {
     "name": "stdout",
     "output_type": "stream",
     "text": [
      "Label: 2\n"
     ]
    },
    {
     "data": {
      "image/png": "[encoded data removed]",
      "text/plain": [
       "<Figure size 640x480 with 1 Axes>"
      ]
     },
     "metadata": {},
     "output_type": "display_data"
    }
   ],
   "source": [
    "plt.imshow(dataset['test_images'][idx].reshape(28,28))\n",
    "print(f\"Label: {dataset['test_labels'][idx]}\")"
   ]
  },
  {
   "cell_type": "code",
   "execution_count": 48,
   "metadata": {},
   "outputs": [
    {
     "data": {
      "text/plain": [
       "<matplotlib.image.AxesImage at 0x26c3d283e50>"
      ]
     },
     "execution_count": 48,
     "metadata": {},
     "output_type": "execute_result"
    },
    {
     "data": {
      "image/png": "[encoded data removed]",
      "text/plain": [
       "<Figure size 640x480 with 1 Axes>"
      ]
     },
     "metadata": {},
     "output_type": "display_data"
    }
   ],
   "source": [
    "img = dataset['train_images'][idx].reshape(28,28)\n",
    "plt.imshow(img)"
   ]
  },
  {
   "cell_type": "markdown",
   "metadata": {},
   "source": [
    "Defining a function _change_one_hot_label()"
   ]
  },
  {
   "cell_type": "code",
   "execution_count": 49,
   "metadata": {},
   "outputs": [],
   "source": [
    "def _change_one_hot_label(y, num_class):\n",
    "    t = np.zeros((y.size, num_class))\n",
    "    for idx, row in enumerate(t):\n",
    "        row[y[idx]] = 1\n",
    "    \n",
    "    return t"
   ]
  },
  {
   "cell_type": "code",
   "execution_count": 43,
   "metadata": {},
   "outputs": [],
   "source": [
    "y = np.array([1, 0, 9, 8])\n",
    "one_hot_y = _change_one_hot_label(y, 10)"
   ]
  },
  {
   "cell_type": "code",
   "execution_count": 50,
   "metadata": {},
   "outputs": [
    {
     "name": "stdout",
     "output_type": "stream",
     "text": [
      "[1 0 9 8]\n",
      "[[0. 1. 0. 0. 0. 0. 0. 0. 0. 0.]\n",
      " [1. 0. 0. 0. 0. 0. 0. 0. 0. 0.]\n",
      " [0. 0. 0. 0. 0. 0. 0. 0. 0. 1.]\n",
      " [0. 0. 0. 0. 0. 0. 0. 0. 1. 0.]]\n"
     ]
    }
   ],
   "source": [
    "print(y)\n",
    "print(one_hot_y)"
   ]
  },
  {
   "cell_type": "markdown",
   "metadata": {},
   "source": [
    "Creating _init_dataset() to download data, check for any existing pickle dataset, load it if availible, create a new if not"
   ]
  },
  {
   "cell_type": "code",
   "execution_count": 51,
   "metadata": {},
   "outputs": [],
   "source": [
    "def _init_dataset():\n",
    "    _download_all()\n",
    "    if os.path.exists(f'{dataset_dir}/{dataset_pkl}'):\n",
    "        with open(f'{dataset_dir}/{dataset_pkl}', 'rb') as f:\n",
    "            print(f'Pickle: {dataset_dir}/{dataset_pkl} already exists.')\n",
    "            print('Loading...')\n",
    "            dataset = pickle.load(f)\n",
    "            print('Done.')\n",
    "    else:\n",
    "        dataset = _create_dataset()\n",
    "\n",
    "    return dataset"
   ]
  },
  {
   "cell_type": "code",
   "execution_count": 53,
   "metadata": {},
   "outputs": [
    {
     "name": "stdout",
     "output_type": "stream",
     "text": [
      "File: train-images-idx3-ubyte.gz already exists.\n",
      "File: train-labels-idx1-ubyte.gz already exists.\n",
      "File: t10k-images-idx3-ubyte.gz already exists.\n",
      "File: t10k-labels-idx1-ubyte.gz already exists.\n",
      "Pickle: dataset/mnist.pkl already exists.\n",
      "Loading...\n",
      "Done.\n"
     ]
    }
   ],
   "source": [
    "dataset = _init_dataset()"
   ]
  },
  {
   "cell_type": "code",
   "execution_count": 59,
   "metadata": {},
   "outputs": [
    {
     "data": {
      "text/plain": [
       "(60000, 784)"
      ]
     },
     "execution_count": 59,
     "metadata": {},
     "output_type": "execute_result"
    }
   ],
   "source": [
    "dataset['train_images'].shape"
   ]
  },
  {
   "cell_type": "markdown",
   "metadata": {},
   "source": [
    "Now making a MNIST Data class"
   ]
  },
  {
   "cell_type": "code",
   "execution_count": 61,
   "metadata": {},
   "outputs": [],
   "source": [
    "class MnistData():\n",
    "\n",
    "    image_dim = (28, 28)\n",
    "    image_size = image_dim[0]*image_dim[1]\n",
    "    dataset_dir = 'dataset'\n",
    "    dataset_pkl = 'mnist.pkl'\n",
    "    url_base = 'http://jrkwon.com/data/ece5831/mnist/' # 'https://yann.lecun.com/exdb/mnist/'\n",
    "\n",
    "    key_file = {\n",
    "        'train_images': 'train-images-idx3-ubyte.gz',\n",
    "        'train_labels': 'train-labels-idx1-ubyte.gz',\n",
    "        'test_images':  't10k-images-idx3-ubyte.gz',\n",
    "        'test_labels':  't10k-labels-idx1-ubyte.gz'\n",
    "    }\n",
    "\n",
    "    def __init__(self):\n",
    "        self.dataset = {}\n",
    "        self.dataset_pkl_path = f'{self.dataset_dir}/{self.dataset_pkl}'\n",
    "\n",
    "        # create dataset_dir if the dir doesn't exist\n",
    "        if os.path.exists(self.dataset_dir) is not True:\n",
    "            os.mkdir(self.dataset_dir)\n",
    "\n",
    "        self._init_dataset()\n",
    "\n",
    "\n",
    "    def _change_one_hot_label(self, y, num_class):\n",
    "        t = np.zeros((y.size, num_class))\n",
    "        for idx, row in enumerate(t):\n",
    "            row[y[idx]] = 1\n",
    "        \n",
    "        return t\n",
    "\n",
    "\n",
    "    def _download(self, file_name):\n",
    "        file_path = self.dataset_dir + '/' + file_name\n",
    "\n",
    "        if (os.path.exists(file_path)):\n",
    "            print(f'File: {file_name} already exists.')\n",
    "            return\n",
    "        \n",
    "        print(f'Downloading {file_name}...')\n",
    "\n",
    "        # to resolve 406 Not Acceptable error\n",
    "        opener = urllib.request.build_opener()\n",
    "        opener.addheaders = [('Accept', '')]\n",
    "        urllib.request.install_opener(opener)\n",
    "\n",
    "        urllib.request.urlretrieve(self.url_base + file_name, file_path)\n",
    "        print('Done')\n",
    "\n",
    "\n",
    "    def _download_all(self):\n",
    "        for file_name in self.key_file.values():\n",
    "            self._download(file_name)\n",
    "\n",
    "    \n",
    "    def _load_images(self, file_name):\n",
    "        with gzip.open(file_name, 'rb') as f:\n",
    "            images = np.frombuffer(f.read(), np.uint8, offset=16)\n",
    "        images = images.reshape(-1, self.image_size)\n",
    "\n",
    "        return images\n",
    "    \n",
    "\n",
    "    def _load_labels(self, file_name):\n",
    "        with gzip.open(file_name, 'rb') as f:\n",
    "            labels = np.frombuffer(f.read(), np.uint8, offset=8)\n",
    "\n",
    "        return labels\n",
    "    \n",
    "\n",
    "    def _create_dataset(self):\n",
    "        file_name = f\"{self.dataset_dir}/{self.key_file['train_images']}\"\n",
    "        self.dataset['train_images'] = self._load_images(file_name)\n",
    "\n",
    "        file_name = f\"{self.dataset_dir}/{self.key_file['train_labels']}\"\n",
    "        self.dataset['train_labels'] = self._load_labels(file_name)\n",
    "\n",
    "        file_name = f\"{self.dataset_dir}/{self.key_file['test_images']}\"\n",
    "        self.dataset['test_images']  = self._load_images(file_name)\n",
    "\n",
    "        file_name = f\"{self.dataset_dir}/{self.key_file['test_labels']}\"\n",
    "        self.dataset['test_labels']  = self._load_labels(file_name)\n",
    "\n",
    "        with open(f'{self.dataset_pkl_path}', 'wb') as f:\n",
    "            print(f'Pickle: {self.dataset_pkl_path} is being created.')\n",
    "            pickle.dump(self.dataset, f)\n",
    "            print('Done.') \n",
    "\n",
    "\n",
    "    def _init_dataset(self):\n",
    "        self._download_all()\n",
    "        if os.path.exists(f'{self.dataset_pkl_path}'):\n",
    "            with open(f'{self.dataset_pkl_path}', 'rb') as f:\n",
    "                print(f'Pickle: {self.dataset_pkl_path} already exists.')\n",
    "                print('Loading...')\n",
    "                self.dataset = pickle.load(f)\n",
    "                print('Done.')\n",
    "        else:\n",
    "            self._create_dataset()\n",
    "\n",
    "\n",
    "    def load(self):\n",
    "        # normalize image datasets\n",
    "        for key in ('train_images', 'test_images'):\n",
    "            self.dataset[key] = self.dataset[key].astype(np.float32)\n",
    "            self.dataset[key] /= 255.0\n",
    "\n",
    "        # one-hot encoding\n",
    "        for key in ('train_labels', 'test_labels'):\n",
    "            self.dataset[key] = self._change_one_hot_label(self.dataset[key], 10)\n",
    "\n",
    "        return (self.dataset['train_images'], self.dataset['train_labels']), \\\n",
    "                (self.dataset['test_images'], self.dataset['test_labels'])"
   ]
  },
  {
   "cell_type": "markdown",
   "metadata": {},
   "source": [
    "Showing that the class is working with four examples (two from train and two from test).\n"
   ]
  },
  {
   "cell_type": "code",
   "execution_count": 70,
   "metadata": {},
   "outputs": [
    {
     "name": "stdout",
     "output_type": "stream",
     "text": [
      "File: train-images-idx3-ubyte.gz already exists.\n",
      "File: train-labels-idx1-ubyte.gz already exists.\n",
      "File: t10k-images-idx3-ubyte.gz already exists.\n",
      "File: t10k-labels-idx1-ubyte.gz already exists.\n",
      "Pickle: dataset/mnist.pkl already exists.\n",
      "Loading...\n",
      "Done.\n"
     ]
    }
   ],
   "source": [
    "mnist_data = MnistData()\n",
    "(train_images, train_labels), (test_images, test_labels) = mnist_data.load()"
   ]
  },
  {
   "cell_type": "code",
   "execution_count": 64,
   "metadata": {},
   "outputs": [
    {
     "data": {
      "text/plain": [
       "(10000, 784)"
      ]
     },
     "execution_count": 64,
     "metadata": {},
     "output_type": "execute_result"
    }
   ],
   "source": [
    "test_images.shape"
   ]
  },
  {
   "cell_type": "code",
   "execution_count": 71,
   "metadata": {},
   "outputs": [
    {
     "data": {
      "text/plain": [
       "(60000, 784)"
      ]
     },
     "execution_count": 71,
     "metadata": {},
     "output_type": "execute_result"
    }
   ],
   "source": [
    "train_images.shape"
   ]
  },
  {
   "cell_type": "code",
   "execution_count": 73,
   "metadata": {},
   "outputs": [],
   "source": [
    "trainlables = mnist_data.dataset['train_labels']\n",
    "testlabels = mnist_data.dataset['test_labels']"
   ]
  },
  {
   "cell_type": "code",
   "execution_count": 66,
   "metadata": {},
   "outputs": [
    {
     "data": {
      "text/plain": [
       "(28, 28)"
      ]
     },
     "execution_count": 66,
     "metadata": {},
     "output_type": "execute_result"
    }
   ],
   "source": [
    "mnist_data.image_dim"
   ]
  },
  {
   "cell_type": "code",
   "execution_count": 74,
   "metadata": {},
   "outputs": [
    {
     "name": "stdout",
     "output_type": "stream",
     "text": [
      "Label (one-hot): [[0. 0. 0. 1. 0. 0. 0. 0. 0. 0.]]\n",
      "Label: 3\n"
     ]
    },
    {
     "data": {
      "text/plain": [
       "<matplotlib.image.AxesImage at 0x26c44a1d1b0>"
      ]
     },
     "execution_count": 74,
     "metadata": {},
     "output_type": "execute_result"
    },
    {
     "data": {
      "image/png": "[encoded data removed]",
      "text/plain": [
       "<Figure size 640x480 with 1 Axes>"
      ]
     },
     "metadata": {},
     "output_type": "display_data"
    }
   ],
   "source": [
    "idx = np.random.randint(test_images.shape[0], size=1)\n",
    "print(f'Label (one-hot): {test_labels[idx]}')\n",
    "print(f'Label: {np.argmax(test_labels[idx])}')\n",
    "plt.imshow(test_images[idx].reshape(28,28))"
   ]
  },
  {
   "cell_type": "code",
   "execution_count": 69,
   "metadata": {},
   "outputs": [
    {
     "name": "stdout",
     "output_type": "stream",
     "text": [
      "Label (one-hot): [[0. 0. 0. 0. 0. 0. 0. 0. 1. 0.]]\n",
      "Label: 8\n"
     ]
    },
    {
     "data": {
      "text/plain": [
       "<matplotlib.image.AxesImage at 0x26c449bc670>"
      ]
     },
     "execution_count": 69,
     "metadata": {},
     "output_type": "execute_result"
    },
    {
     "data": {
      "image/png": "[encoded data removed]",
      "text/plain": [
       "<Figure size 640x480 with 1 Axes>"
      ]
     },
     "metadata": {},
     "output_type": "display_data"
    }
   ],
   "source": [
    "idx = np.random.randint(test_images.shape[0], size=1)\n",
    "print(f'Label (one-hot): {test_labels[idx]}')\n",
    "print(f'Label: {np.argmax(test_labels[idx])}')\n",
    "plt.imshow(test_images[idx].reshape(28,28))"
   ]
  },
  {
   "cell_type": "code",
   "execution_count": 75,
   "metadata": {},
   "outputs": [
    {
     "name": "stdout",
     "output_type": "stream",
     "text": [
      "Label (one-hot): [[0. 0. 0. 0. 0. 1. 0. 0. 0. 0.]]\n",
      "Label: 5\n"
     ]
    },
    {
     "data": {
      "text/plain": [
       "<matplotlib.image.AxesImage at 0x26c478d2710>"
      ]
     },
     "execution_count": 75,
     "metadata": {},
     "output_type": "execute_result"
    },
    {
     "data": {
      "image/png": "[encoded data removed]",
      "text/plain": [
       "<Figure size 640x480 with 1 Axes>"
      ]
     },
     "metadata": {},
     "output_type": "display_data"
    }
   ],
   "source": [
    "idx = np.random.randint(train_images.shape[0], size=1)\n",
    "print(f'Label (one-hot): {train_labels[idx]}')\n",
    "print(f'Label: {np.argmax(train_labels[idx])}')\n",
    "plt.imshow(train_images[idx].reshape(28,28))"
   ]
  },
  {
   "cell_type": "code",
   "execution_count": 76,
   "metadata": {},
   "outputs": [
    {
     "name": "stdout",
     "output_type": "stream",
     "text": [
      "Label (one-hot): [[0. 0. 0. 0. 0. 0. 1. 0. 0. 0.]]\n",
      "Label: 6\n"
     ]
    },
    {
     "data": {
      "text/plain": [
       "<matplotlib.image.AxesImage at 0x26c3d18f1f0>"
      ]
     },
     "execution_count": 76,
     "metadata": {},
     "output_type": "execute_result"
    },
    {
     "data": {
      "image/png": "[encoded data removed]",
      "text/plain": [
       "<Figure size 640x480 with 1 Axes>"
      ]
     },
     "metadata": {},
     "output_type": "display_data"
    }
   ],
   "source": [
    "idx = np.random.randint(train_images.shape[0], size=1)\n",
    "print(f'Label (one-hot): {train_labels[idx]}')\n",
    "print(f'Label: {np.argmax(train_labels[idx])}')\n",
    "plt.imshow(train_images[idx].reshape(28,28))"
   ]
  }
 ],
 "metadata": {
  "kernelspec": {
   "display_name": "ec583-2024",
   "language": "python",
   "name": "python3"
  },
  "language_info": {
   "codemirror_mode": {
    "name": "ipython",
    "version": 3
   },
   "file_extension": ".py",
   "mimetype": "text/x-python",
   "name": "python",
   "nbconvert_exporter": "python",
   "pygments_lexer": "ipython3",
   "version": "3.10.14"
  }
 },
 "nbformat": 4,
 "nbformat_minor": 2
}
