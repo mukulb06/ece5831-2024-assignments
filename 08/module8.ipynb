{
 "cells": [
  {
   "cell_type": "markdown",
   "metadata": {},
   "source": [
    "Importing libraries "
   ]
  },
  {
   "cell_type": "code",
   "execution_count": 1,
   "metadata": {},
   "outputs": [],
   "source": [
    "from tensorflow.keras.models import Sequential, load_model\n",
    "from tensorflow.keras.layers import Conv2D, AveragePooling2D, Flatten, Dense\n",
    "from tensorflow.keras.datasets import mnist\n",
    "from tensorflow.keras.utils import to_categorical\n",
    "import numpy as np\n",
    "import cv2\n",
    "import matplotlib.pyplot as plt"
   ]
  },
  {
   "cell_type": "markdown",
   "metadata": {},
   "source": [
    "LeNet Class"
   ]
  },
  {
   "cell_type": "code",
   "execution_count": 2,
   "metadata": {},
   "outputs": [],
   "source": [
    "class LeNet:\n",
    "    def __init__(self, batch_size=32, epochs=20):\n",
    "        self.batch_size = batch_size\n",
    "        self.epochs = epochs\n",
    "        self.model = None\n",
    "        self._create_lenet()\n",
    "        self._compile()\n",
    "\n",
    "    def _create_lenet(self):\n",
    "        self.model = Sequential([\n",
    "            Conv2D(filters=6, kernel_size=(5, 5),\n",
    "                   activation='sigmoid', input_shape=(28, 28, 1),\n",
    "                   padding='same'),\n",
    "            AveragePooling2D(pool_size=(2, 2), strides=2),\n",
    "\n",
    "            Conv2D(filters=16, kernel_size=(5, 5),\n",
    "                   activation='sigmoid',\n",
    "                   padding='same'),\n",
    "            AveragePooling2D(pool_size=(2, 2), strides=2),\n",
    "\n",
    "            Flatten(),\n",
    "\n",
    "            Dense(120, activation='sigmoid'),\n",
    "            Dense(84, activation='sigmoid'),\n",
    "            Dense(10, activation='softmax')\n",
    "        ])\n",
    "\n",
    "    def _compile(self):\n",
    "        if self.model is None:\n",
    "            print('Error: Create a model first..')\n",
    "        self.model.compile(optimizer='Adam',\n",
    "                           loss='categorical_crossentropy',\n",
    "                           metrics=['accuracy'])\n",
    "\n",
    "    def _preprocess(self):\n",
    "        # load mnist data\n",
    "        (x_train, y_train), (x_test, y_test) = mnist.load_data()\n",
    "\n",
    "        # normalize\n",
    "        x_train = x_train / 255.0\n",
    "        x_test = x_test / 255.0\n",
    "\n",
    "        # add channel dim\n",
    "        self.x_train = x_train.reshape(x_train.shape[0], 28, 28, 1)\n",
    "        self.x_test = x_test.reshape(x_test.shape[0], 28, 28, 1)\n",
    "\n",
    "        # one-hot encoding\n",
    "        self.y_train = to_categorical(y_train, 10)\n",
    "        self.y_test = to_categorical(y_test, 10)\n",
    "\n",
    "    def train(self):\n",
    "        self._preprocess()\n",
    "        self.model.fit(self.x_train, self.y_train,\n",
    "                       batch_size=self.batch_size,\n",
    "                       epochs=self.epochs)\n",
    "\n",
    "    def save(self, model_path_name):\n",
    "        \"\"\"Save the model with a specified name.\"\"\"\n",
    "        if self.model:\n",
    "            self.model.save(f\"{model_path_name}.keras\")\n",
    "            print(f\"Model saved as {model_path_name}.keras\")\n",
    "        else:\n",
    "            print(\"Error: No model to save.\")\n",
    "\n",
    "    def load(self, model_path_name):\n",
    "        \"\"\"Load a saved model.\"\"\"\n",
    "        try:\n",
    "            self.model = load_model(f\"{model_path_name}.keras\")\n",
    "            print(f\"Model loaded from {model_path_name}.keras\")\n",
    "        except Exception as e:\n",
    "            print(f\"Error loading model: {e}\")\n",
    "\n",
    "    def predict(self, images):\n",
    "        \"\"\"Predict the class of a list of images.\"\"\"\n",
    "        if not self.model:\n",
    "            print(\"Error: Model is not loaded or created.\")\n",
    "            return None\n",
    "        # Ensure images are preprocessed\n",
    "        images = np.array(images) / 255.0  # Normalize\n",
    "        if len(images.shape) == 3:  # Add channel dimension if needed\n",
    "            images = images.reshape(images.shape[0], 28, 28, 1)\n",
    "        predictions = self.model.predict(images)\n",
    "        return np.argmax(predictions, axis=1)\n"
   ]
  },
  {
   "cell_type": "markdown",
   "metadata": {},
   "source": [
    "Using LeNet class to train and save model"
   ]
  },
  {
   "cell_type": "code",
   "execution_count": 3,
   "metadata": {},
   "outputs": [],
   "source": [
    "lenet = LeNet(batch_size=32, epochs=20)"
   ]
  },
  {
   "cell_type": "code",
   "execution_count": 5,
   "metadata": {},
   "outputs": [
    {
     "name": "stdout",
     "output_type": "stream",
     "text": [
      "Training the model...\n",
      "Epoch 1/20\n",
      "1875/1875 [==============================] - 26s 14ms/step - loss: 0.0974 - accuracy: 0.9704\n",
      "Epoch 2/20\n",
      "1875/1875 [==============================] - 25s 13ms/step - loss: 0.0756 - accuracy: 0.9767\n",
      "Epoch 3/20\n",
      "1875/1875 [==============================] - 27s 14ms/step - loss: 0.0618 - accuracy: 0.9806\n",
      "Epoch 4/20\n",
      "1875/1875 [==============================] - 26s 14ms/step - loss: 0.0524 - accuracy: 0.9836\n",
      "Epoch 5/20\n",
      "1875/1875 [==============================] - 26s 14ms/step - loss: 0.0468 - accuracy: 0.9852\n",
      "Epoch 6/20\n",
      "1875/1875 [==============================] - 26s 14ms/step - loss: 0.0413 - accuracy: 0.9867\n",
      "Epoch 7/20\n",
      "1875/1875 [==============================] - 26s 14ms/step - loss: 0.0364 - accuracy: 0.9887\n",
      "Epoch 8/20\n",
      "1875/1875 [==============================] - 26s 14ms/step - loss: 0.0334 - accuracy: 0.9890\n",
      "Epoch 9/20\n",
      "1875/1875 [==============================] - 27s 14ms/step - loss: 0.0292 - accuracy: 0.9906\n",
      "Epoch 10/20\n",
      "1875/1875 [==============================] - 27s 14ms/step - loss: 0.0263 - accuracy: 0.9916\n",
      "Epoch 11/20\n",
      "1875/1875 [==============================] - 27s 14ms/step - loss: 0.0240 - accuracy: 0.9924\n",
      "Epoch 12/20\n",
      "1875/1875 [==============================] - 26s 14ms/step - loss: 0.0219 - accuracy: 0.9932\n",
      "Epoch 13/20\n",
      "1875/1875 [==============================] - 26s 14ms/step - loss: 0.0193 - accuracy: 0.9941\n",
      "Epoch 14/20\n",
      "1875/1875 [==============================] - 28s 15ms/step - loss: 0.0178 - accuracy: 0.9940\n",
      "Epoch 15/20\n",
      "1875/1875 [==============================] - 26s 14ms/step - loss: 0.0153 - accuracy: 0.9954\n",
      "Epoch 16/20\n",
      "1875/1875 [==============================] - 27s 14ms/step - loss: 0.0154 - accuracy: 0.9947\n",
      "Epoch 17/20\n",
      "1875/1875 [==============================] - 28s 15ms/step - loss: 0.0127 - accuracy: 0.9961\n",
      "Epoch 18/20\n",
      "1875/1875 [==============================] - 26s 14ms/step - loss: 0.0126 - accuracy: 0.9957\n",
      "Epoch 19/20\n",
      "1875/1875 [==============================] - 29s 16ms/step - loss: 0.0106 - accuracy: 0.9966\n",
      "Epoch 20/20\n",
      "1875/1875 [==============================] - 27s 14ms/step - loss: 0.0106 - accuracy: 0.9966\n",
      "Model saved as bhatia_cnn_model.keras\n"
     ]
    }
   ],
   "source": [
    "print(\"Training the model...\")\n",
    "lenet.train()\n",
    "# Save the trained model\n",
    "model_name = \"bhatia_cnn_model\"\n",
    "lenet.save(model_name)"
   ]
  },
  {
   "cell_type": "code",
   "execution_count": 6,
   "metadata": {},
   "outputs": [
    {
     "name": "stdout",
     "output_type": "stream",
     "text": [
      "Model loaded from bhatia_cnn_model.keras\n"
     ]
    }
   ],
   "source": [
    "lenet_loaded = LeNet()\n",
    "lenet_loaded.load(model_name)\n"
   ]
  },
  {
   "cell_type": "markdown",
   "metadata": {},
   "source": [
    "Predictions "
   ]
  },
  {
   "cell_type": "code",
   "execution_count": 7,
   "metadata": {},
   "outputs": [],
   "source": [
    "def preprocess_image(image_path):\n",
    "    \"\"\"Preprocess an image for prediction.\"\"\"\n",
    "    # Load the image in grayscale\n",
    "    image = cv2.imread(image_path, cv2.IMREAD_GRAYSCALE)\n",
    "    if image is None:\n",
    "        raise FileNotFoundError(f\"Image at {image_path} could not be loaded.\")\n",
    "    # Resize the image to 28x28 pixels\n",
    "    image = cv2.resize(image, (28, 28))\n",
    "    # Normalize the image and reshape to match model input\n",
    "    image = image / 255.0\n",
    "    image = image.reshape(1, 28, 28, 1)  # Batch size 1, channel 1\n",
    "    return image"
   ]
  },
  {
   "cell_type": "code",
   "execution_count": 8,
   "metadata": {},
   "outputs": [],
   "source": [
    "def test_model(image_path, true_digit):\n",
    "    \"\"\"Test the model with an input image and the true digit.\"\"\"\n",
    "    try:\n",
    "        # Preprocess the image\n",
    "        image = preprocess_image(image_path)\n",
    "\n",
    "        # Predict the digit\n",
    "        prediction = lenet_loaded.predict(image)\n",
    "        predicted_digit = prediction[0]\n",
    "\n",
    "        # Display the image\n",
    "        img_to_display = cv2.imread(image_path, cv2.IMREAD_GRAYSCALE)\n",
    "        plt.imshow(img_to_display, cmap='gray')\n",
    "        plt.title(f\"Predicted Digit: {predicted_digit}\")\n",
    "        plt.axis('off')\n",
    "        plt.show()\n",
    "\n",
    "        # Compare the result with the true digit\n",
    "        if predicted_digit == true_digit:\n",
    "            print(f\"Success: Image {image_path} is for digit {true_digit} and recognized as {predicted_digit}.\")\n",
    "        else:\n",
    "            print(f\"Fail: Image {image_path} is for digit {true_digit} but the inference result is {predicted_digit}.\")\n",
    "\n",
    "    except Exception as e:\n",
    "        print(f\"Error: {e}\")\n",
    "\n"
   ]
  },
  {
   "cell_type": "code",
   "execution_count": 9,
   "metadata": {},
   "outputs": [
    {
     "name": "stdout",
     "output_type": "stream",
     "text": [
      "1/1 [==============================] - 0s 120ms/step\n"
     ]
    },
    {
     "data": {
      "image/png": "[encoded data removed]",
      "text/plain": [
       "<Figure size 640x480 with 1 Axes>"
      ]
     },
     "metadata": {},
     "output_type": "display_data"
    },
    {
     "name": "stdout",
     "output_type": "stream",
     "text": [
      "Fail: Image D:\\UMD\\Neural Networks\\Assignment GIthub\\ece5831-2024-assignments\\08\\Custom MNIST Samples\\Digit 8\\8_1.png is for digit 8 but the inference result is 1.\n"
     ]
    }
   ],
   "source": [
    "# Example test case\n",
    "# Replace 'test_image.png' with the path to your test image\n",
    "# and set the correct true digit for the image\n",
    "test_image_path = r\"D:\\UMD\\Neural Networks\\Assignment GIthub\\ece5831-2024-assignments\\08\\Custom MNIST Samples\\Digit 8\\8_1.png\"  # Example: Path to your handwritten digit image\n",
    "true_digit = 8  # Replace with the correct digit in the image\n",
    "test_model(test_image_path, true_digit)"
   ]
  },
  {
   "cell_type": "code",
   "execution_count": 10,
   "metadata": {},
   "outputs": [
    {
     "name": "stdout",
     "output_type": "stream",
     "text": [
      "1/1 [==============================] - 0s 22ms/step\n"
     ]
    },
    {
     "data": {
      "image/png": "[encoded data removed]",
      "text/plain": [
       "<Figure size 640x480 with 1 Axes>"
      ]
     },
     "metadata": {},
     "output_type": "display_data"
    },
    {
     "name": "stdout",
     "output_type": "stream",
     "text": [
      "Success: Image D:\\UMD\\Neural Networks\\Assignment GIthub\\ece5831-2024-assignments\\08\\Custom MNIST Samples\\Digit 1\\1_1.png is for digit 1 and recognized as 1.\n"
     ]
    }
   ],
   "source": [
    "# Example test case\n",
    "# Replace 'test_image.png' with the path to your test image\n",
    "# and set the correct true digit for the image\n",
    "test_image_path = r\"D:\\UMD\\Neural Networks\\Assignment GIthub\\ece5831-2024-assignments\\08\\Custom MNIST Samples\\Digit 1\\1_1.png\"  # Example: Path to your handwritten digit image\n",
    "true_digit = 1  # Replace with the correct digit in the image\n",
    "test_model(test_image_path, true_digit)"
   ]
  },
  {
   "cell_type": "code",
   "execution_count": 11,
   "metadata": {},
   "outputs": [
    {
     "name": "stdout",
     "output_type": "stream",
     "text": [
      "Model bhatia_cnn_model.keras found. Loading the saved model...\n",
      "Model loaded from bhatia_cnn_model.keras\n",
      "Processing image: ./Custom MNIST Samples/Digit 2/2_3.png\n",
      "\n",
      "1/1 [==============================] - ETA: 0s\n",
      "1/1 [==============================] - 0s 255ms/step\n",
      "Figure(640x480)\n",
      "Fail: Image ./Custom MNIST Samples/Digit 2/2_3.png is for digit 2 but the inference result is 1.\n"
     ]
    }
   ],
   "source": [
    "!python module8.py \"./Custom MNIST Samples/Digit 2/2_3.png\" 2"
   ]
  },
  {
   "cell_type": "markdown",
   "metadata": {},
   "source": [
    "Testing the model for predicting mnist dataset "
   ]
  },
  {
   "cell_type": "code",
   "execution_count": 12,
   "metadata": {},
   "outputs": [],
   "source": [
    "(x_train, y_train), (x_test, y_test) = mnist.load_data()"
   ]
  },
  {
   "cell_type": "code",
   "execution_count": 13,
   "metadata": {},
   "outputs": [
    {
     "name": "stdout",
     "output_type": "stream",
     "text": [
      "1/1 [==============================] - 0s 91ms/step\n",
      "Predictions: [7 2 1 0 4 1 4 9 5 9]\n"
     ]
    }
   ],
   "source": [
    "predictions = lenet.model.predict(x_test[:10])\n",
    "print(\"Predictions:\", np.argmax(predictions, axis=1))\n"
   ]
  },
  {
   "cell_type": "code",
   "execution_count": 14,
   "metadata": {},
   "outputs": [
    {
     "name": "stdout",
     "output_type": "stream",
     "text": [
      "1/1 [==============================] - 0s 25ms/step\n",
      "Predictions: [7 2 1 0 4 1 4 9 5 9]\n"
     ]
    }
   ],
   "source": [
    "predictions = lenet.model.predict(x_test[:10])\n",
    "print(\"Predictions:\", np.argmax(predictions, axis=1))\n",
    "\n"
   ]
  },
  {
   "cell_type": "code",
   "execution_count": 15,
   "metadata": {},
   "outputs": [],
   "source": [
    "from tensorflow import keras"
   ]
  },
  {
   "cell_type": "code",
   "execution_count": 16,
   "metadata": {},
   "outputs": [
    {
     "data": {
      "text/plain": [
       "array([[0., 0., 0., ..., 0., 0., 0.],\n",
       "       [1., 0., 0., ..., 0., 0., 0.],\n",
       "       [0., 0., 0., ..., 0., 0., 0.],\n",
       "       ...,\n",
       "       [0., 0., 0., ..., 0., 0., 0.],\n",
       "       [0., 0., 0., ..., 0., 0., 0.],\n",
       "       [0., 0., 0., ..., 0., 1., 0.]], dtype=float32)"
      ]
     },
     "execution_count": 16,
     "metadata": {},
     "output_type": "execute_result"
    }
   ],
   "source": [
    "keras.utils.to_categorical(y_train, num_classes=10)"
   ]
  },
  {
   "cell_type": "code",
   "execution_count": 17,
   "metadata": {},
   "outputs": [],
   "source": [
    "y_train = keras.utils.to_categorical(y_train, num_classes=10)\n",
    "y_test =  keras.utils.to_categorical(y_test, num_classes=10)"
   ]
  },
  {
   "cell_type": "code",
   "execution_count": 18,
   "metadata": {},
   "outputs": [
    {
     "data": {
      "text/plain": [
       "array([0., 0., 0., 0., 0., 1., 0., 0., 0., 0.], dtype=float32)"
      ]
     },
     "execution_count": 18,
     "metadata": {},
     "output_type": "execute_result"
    }
   ],
   "source": [
    "y_train[0]"
   ]
  },
  {
   "cell_type": "code",
   "execution_count": 19,
   "metadata": {},
   "outputs": [],
   "source": [
    "labels = np.argmax(y_test[0:10], axis=1)"
   ]
  },
  {
   "cell_type": "code",
   "execution_count": 20,
   "metadata": {},
   "outputs": [
    {
     "data": {
      "text/plain": [
       "array([7, 2, 1, 0, 4, 1, 4, 9, 5, 9], dtype=int64)"
      ]
     },
     "execution_count": 20,
     "metadata": {},
     "output_type": "execute_result"
    }
   ],
   "source": [
    "labels"
   ]
  },
  {
   "cell_type": "code",
   "execution_count": 21,
   "metadata": {},
   "outputs": [],
   "source": [
    "predictions = np.argmax(predictions, axis=1)"
   ]
  },
  {
   "cell_type": "code",
   "execution_count": 22,
   "metadata": {},
   "outputs": [
    {
     "data": {
      "text/plain": [
       "array([7, 2, 1, 0, 4, 1, 4, 9, 5, 9], dtype=int64)"
      ]
     },
     "execution_count": 22,
     "metadata": {},
     "output_type": "execute_result"
    }
   ],
   "source": [
    "predictions"
   ]
  },
  {
   "cell_type": "code",
   "execution_count": 23,
   "metadata": {},
   "outputs": [
    {
     "data": {
      "text/plain": [
       "array([ True,  True,  True,  True,  True,  True,  True,  True,  True,\n",
       "        True])"
      ]
     },
     "execution_count": 23,
     "metadata": {},
     "output_type": "execute_result"
    }
   ],
   "source": [
    "predictions == labels\n"
   ]
  },
  {
   "cell_type": "markdown",
   "metadata": {},
   "source": [
    "Testing on all handwritten images"
   ]
  },
  {
   "cell_type": "code",
   "execution_count": 1,
   "metadata": {},
   "outputs": [
    {
     "name": "stdout",
     "output_type": "stream",
     "text": [
      "Model bhatia_cnn_model.keras found. Loading the saved model...\n",
      "Model loaded from bhatia_cnn_model.keras\n",
      "Processing image: ./Custom MNIST Samples/Digit 0/0_0.png\n",
      "\n",
      "1/1 [==============================] - ETA: 0s\n",
      "1/1 [==============================] - 0s 332ms/step\n",
      "Figure(640x480)\n",
      "Fail: Image ./Custom MNIST Samples/Digit 0/0_0.png is for digit 0 but the inference result is 1.\n"
     ]
    }
   ],
   "source": [
    "!python module8.py \"./Custom MNIST Samples/Digit 0/0_0.png\" 0"
   ]
  },
  {
   "cell_type": "code",
   "execution_count": 2,
   "metadata": {},
   "outputs": [
    {
     "name": "stdout",
     "output_type": "stream",
     "text": [
      "Model bhatia_cnn_model.keras found. Loading the saved model...\n",
      "Model loaded from bhatia_cnn_model.keras\n",
      "Processing image: ./Custom MNIST Samples/Digit 0/0_1.png\n",
      "\n",
      "1/1 [==============================] - ETA: 0s\n",
      "1/1 [==============================] - 0s 256ms/step\n",
      "Figure(640x480)\n",
      "Fail: Image ./Custom MNIST Samples/Digit 0/0_1.png is for digit 0 but the inference result is 1.\n"
     ]
    }
   ],
   "source": [
    "!python module8.py \"./Custom MNIST Samples/Digit 0/0_1.png\" 0"
   ]
  },
  {
   "cell_type": "code",
   "execution_count": 3,
   "metadata": {},
   "outputs": [
    {
     "name": "stdout",
     "output_type": "stream",
     "text": [
      "Model bhatia_cnn_model.keras found. Loading the saved model...\n",
      "Model loaded from bhatia_cnn_model.keras\n",
      "Processing image: ./Custom MNIST Samples/Digit 0/0_2.png\n",
      "\n",
      "1/1 [==============================] - ETA: 0s\n",
      "1/1 [==============================] - 0s 248ms/step\n",
      "Figure(640x480)\n",
      "Fail: Image ./Custom MNIST Samples/Digit 0/0_2.png is for digit 0 but the inference result is 1.\n"
     ]
    }
   ],
   "source": [
    "!python module8.py \"./Custom MNIST Samples/Digit 0/0_2.png\" 0"
   ]
  },
  {
   "cell_type": "code",
   "execution_count": 4,
   "metadata": {},
   "outputs": [
    {
     "name": "stdout",
     "output_type": "stream",
     "text": [
      "Model bhatia_cnn_model.keras found. Loading the saved model...\n",
      "Model loaded from bhatia_cnn_model.keras\n",
      "Processing image: ./Custom MNIST Samples/Digit 0/0_3.png\n",
      "\n",
      "1/1 [==============================] - ETA: 0s\n",
      "1/1 [==============================] - 0s 252ms/step\n",
      "Figure(640x480)\n",
      "Fail: Image ./Custom MNIST Samples/Digit 0/0_3.png is for digit 0 but the inference result is 1.\n"
     ]
    }
   ],
   "source": [
    "!python module8.py \"./Custom MNIST Samples/Digit 0/0_3.png\" 0"
   ]
  },
  {
   "cell_type": "code",
   "execution_count": 5,
   "metadata": {},
   "outputs": [
    {
     "name": "stdout",
     "output_type": "stream",
     "text": [
      "Model bhatia_cnn_model.keras found. Loading the saved model...\n",
      "Model loaded from bhatia_cnn_model.keras\n",
      "Processing image: ./Custom MNIST Samples/Digit 0/0_4.png\n",
      "\n",
      "1/1 [==============================] - ETA: 0s\n",
      "1/1 [==============================] - 0s 271ms/step\n",
      "Figure(640x480)\n",
      "Fail: Image ./Custom MNIST Samples/Digit 0/0_4.png is for digit 0 but the inference result is 1.\n"
     ]
    }
   ],
   "source": [
    "!python module8.py \"./Custom MNIST Samples/Digit 0/0_4.png\" 0"
   ]
  },
  {
   "cell_type": "code",
   "execution_count": 6,
   "metadata": {},
   "outputs": [
    {
     "name": "stdout",
     "output_type": "stream",
     "text": [
      "Model bhatia_cnn_model.keras found. Loading the saved model...\n",
      "Model loaded from bhatia_cnn_model.keras\n",
      "Processing image: ./Custom MNIST Samples/Digit 1/1_0.png\n",
      "\n",
      "1/1 [==============================] - ETA: 0s\n",
      "1/1 [==============================] - 0s 253ms/step\n",
      "Figure(640x480)\n",
      "Success: Image ./Custom MNIST Samples/Digit 1/1_0.png is for digit 1 and recognized as 1.\n"
     ]
    }
   ],
   "source": [
    "!python module8.py \"./Custom MNIST Samples/Digit 1/1_0.png\" 1"
   ]
  },
  {
   "cell_type": "code",
   "execution_count": 7,
   "metadata": {},
   "outputs": [
    {
     "name": "stdout",
     "output_type": "stream",
     "text": [
      "Model bhatia_cnn_model.keras found. Loading the saved model...\n",
      "Model loaded from bhatia_cnn_model.keras\n",
      "Processing image: ./Custom MNIST Samples/Digit 1/1_1.png\n",
      "\n",
      "1/1 [==============================] - ETA: 0s\n",
      "1/1 [==============================] - 0s 249ms/step\n",
      "Figure(640x480)\n",
      "Success: Image ./Custom MNIST Samples/Digit 1/1_1.png is for digit 1 and recognized as 1.\n"
     ]
    }
   ],
   "source": [
    "!python module8.py \"./Custom MNIST Samples/Digit 1/1_1.png\" 1"
   ]
  },
  {
   "cell_type": "code",
   "execution_count": 8,
   "metadata": {},
   "outputs": [
    {
     "name": "stdout",
     "output_type": "stream",
     "text": [
      "Model bhatia_cnn_model.keras found. Loading the saved model...\n",
      "Model loaded from bhatia_cnn_model.keras\n",
      "Processing image: ./Custom MNIST Samples/Digit 1/1_2.png\n",
      "\n",
      "1/1 [==============================] - ETA: 0s\n",
      "1/1 [==============================] - 0s 269ms/step\n",
      "Figure(640x480)\n",
      "Success: Image ./Custom MNIST Samples/Digit 1/1_2.png is for digit 1 and recognized as 1.\n"
     ]
    }
   ],
   "source": [
    "!python module8.py \"./Custom MNIST Samples/Digit 1/1_2.png\" 1"
   ]
  },
  {
   "cell_type": "code",
   "execution_count": 9,
   "metadata": {},
   "outputs": [
    {
     "name": "stdout",
     "output_type": "stream",
     "text": [
      "Model bhatia_cnn_model.keras found. Loading the saved model...\n",
      "Model loaded from bhatia_cnn_model.keras\n",
      "Processing image: ./Custom MNIST Samples/Digit 1/1_3.png\n",
      "\n",
      "1/1 [==============================] - ETA: 0s\n",
      "1/1 [==============================] - 0s 259ms/step\n",
      "Figure(640x480)\n",
      "Success: Image ./Custom MNIST Samples/Digit 1/1_3.png is for digit 1 and recognized as 1.\n"
     ]
    }
   ],
   "source": [
    "!python module8.py \"./Custom MNIST Samples/Digit 1/1_3.png\" 1"
   ]
  },
  {
   "cell_type": "code",
   "execution_count": 10,
   "metadata": {},
   "outputs": [
    {
     "name": "stdout",
     "output_type": "stream",
     "text": [
      "Model bhatia_cnn_model.keras found. Loading the saved model...\n",
      "Model loaded from bhatia_cnn_model.keras\n",
      "Processing image: ./Custom MNIST Samples/Digit 1/1_4.png\n",
      "\n",
      "1/1 [==============================] - ETA: 0s\n",
      "1/1 [==============================] - 0s 267ms/step\n",
      "Figure(640x480)\n",
      "Success: Image ./Custom MNIST Samples/Digit 1/1_4.png is for digit 1 and recognized as 1.\n"
     ]
    }
   ],
   "source": [
    "!python module8.py \"./Custom MNIST Samples/Digit 1/1_4.png\" 1"
   ]
  },
  {
   "cell_type": "code",
   "execution_count": 11,
   "metadata": {},
   "outputs": [
    {
     "name": "stdout",
     "output_type": "stream",
     "text": [
      "Model bhatia_cnn_model.keras found. Loading the saved model...\n",
      "Model loaded from bhatia_cnn_model.keras\n",
      "Processing image: ./Custom MNIST Samples/Digit 2/2_0.png\n",
      "\n",
      "1/1 [==============================] - ETA: 0s\n",
      "1/1 [==============================] - 0s 323ms/step\n",
      "Figure(640x480)\n",
      "Fail: Image ./Custom MNIST Samples/Digit 2/2_0.png is for digit 2 but the inference result is 1.\n"
     ]
    }
   ],
   "source": [
    "!python module8.py \"./Custom MNIST Samples/Digit 2/2_0.png\" 2"
   ]
  },
  {
   "cell_type": "code",
   "execution_count": 12,
   "metadata": {},
   "outputs": [
    {
     "name": "stdout",
     "output_type": "stream",
     "text": [
      "Model bhatia_cnn_model.keras found. Loading the saved model...\n",
      "Model loaded from bhatia_cnn_model.keras\n",
      "Processing image: ./Custom MNIST Samples/Digit 2/2_1.png\n",
      "\n",
      "1/1 [==============================] - ETA: 0s\n",
      "1/1 [==============================] - 0s 279ms/step\n",
      "Figure(640x480)\n",
      "Fail: Image ./Custom MNIST Samples/Digit 2/2_1.png is for digit 2 but the inference result is 1.\n"
     ]
    }
   ],
   "source": [
    "!python module8.py \"./Custom MNIST Samples/Digit 2/2_1.png\" 2"
   ]
  },
  {
   "cell_type": "code",
   "execution_count": 13,
   "metadata": {},
   "outputs": [
    {
     "name": "stdout",
     "output_type": "stream",
     "text": [
      "Model bhatia_cnn_model.keras found. Loading the saved model...\n",
      "Model loaded from bhatia_cnn_model.keras\n",
      "Processing image: ./Custom MNIST Samples/Digit 2/2_2.png\n",
      "\n",
      "1/1 [==============================] - ETA: 0s\n",
      "1/1 [==============================] - 0s 252ms/step\n",
      "Figure(640x480)\n",
      "Fail: Image ./Custom MNIST Samples/Digit 2/2_2.png is for digit 2 but the inference result is 1.\n"
     ]
    }
   ],
   "source": [
    "!python module8.py \"./Custom MNIST Samples/Digit 2/2_2.png\" 2"
   ]
  },
  {
   "cell_type": "code",
   "execution_count": 14,
   "metadata": {},
   "outputs": [
    {
     "name": "stdout",
     "output_type": "stream",
     "text": [
      "Model bhatia_cnn_model.keras found. Loading the saved model...\n",
      "Model loaded from bhatia_cnn_model.keras\n",
      "Processing image: ./Custom MNIST Samples/Digit 2/2_3.png\n",
      "\n",
      "1/1 [==============================] - ETA: 0s\n",
      "1/1 [==============================] - 0s 252ms/step\n",
      "Figure(640x480)\n",
      "Fail: Image ./Custom MNIST Samples/Digit 2/2_3.png is for digit 2 but the inference result is 1.\n"
     ]
    }
   ],
   "source": [
    "!python module8.py \"./Custom MNIST Samples/Digit 2/2_3.png\" 2"
   ]
  },
  {
   "cell_type": "code",
   "execution_count": 15,
   "metadata": {},
   "outputs": [
    {
     "name": "stdout",
     "output_type": "stream",
     "text": [
      "Model bhatia_cnn_model.keras found. Loading the saved model...\n",
      "Model loaded from bhatia_cnn_model.keras\n",
      "Processing image: ./Custom MNIST Samples/Digit 2/2_4.png\n",
      "\n",
      "1/1 [==============================] - ETA: 0s\n",
      "1/1 [==============================] - 0s 267ms/step\n",
      "Figure(640x480)\n",
      "Fail: Image ./Custom MNIST Samples/Digit 2/2_4.png is for digit 2 but the inference result is 1.\n"
     ]
    }
   ],
   "source": [
    "!python module8.py \"./Custom MNIST Samples/Digit 2/2_4.png\" 2"
   ]
  },
  {
   "cell_type": "code",
   "execution_count": 16,
   "metadata": {},
   "outputs": [
    {
     "name": "stdout",
     "output_type": "stream",
     "text": [
      "Model bhatia_cnn_model.keras found. Loading the saved model...\n",
      "Model loaded from bhatia_cnn_model.keras\n",
      "Processing image: ./Custom MNIST Samples/Digit 3/3_0.png\n",
      "\n",
      "1/1 [==============================] - ETA: 0s\n",
      "1/1 [==============================] - 0s 271ms/step\n",
      "Figure(640x480)\n",
      "Fail: Image ./Custom MNIST Samples/Digit 3/3_0.png is for digit 3 but the inference result is 1.\n"
     ]
    }
   ],
   "source": [
    "\"\"\" \n",
    "For some reason when i test the model on my own dataset, it always gives me 1 as the result. \n",
    "i tried all the preprocessing, grayscale, centering the image, everything but always get 1 as the result. \n",
    "But since the model can predict the mnist dataset with 99.66% accuracy, \n",
    "i think that i need to preprocess my data in a different way for the model to predict correctly\n",
    " \"\"\"\n",
    "\n",
    "!python module8.py \"./Custom MNIST Samples/Digit 3/3_0.png\" 3\n"
   ]
  },
  {
   "cell_type": "code",
   "execution_count": 17,
   "metadata": {},
   "outputs": [
    {
     "name": "stdout",
     "output_type": "stream",
     "text": [
      "Model bhatia_cnn_model.keras found. Loading the saved model...\n",
      "Model loaded from bhatia_cnn_model.keras\n",
      "Processing image: ./Custom MNIST Samples/Digit 3/3_1.png\n",
      "\n",
      "1/1 [==============================] - ETA: 0s\n",
      "1/1 [==============================] - 0s 242ms/step\n",
      "Figure(640x480)\n",
      "Fail: Image ./Custom MNIST Samples/Digit 3/3_1.png is for digit 3 but the inference result is 1.\n"
     ]
    }
   ],
   "source": [
    "!python module8.py \"./Custom MNIST Samples/Digit 3/3_1.png\" 3"
   ]
  },
  {
   "cell_type": "code",
   "execution_count": 18,
   "metadata": {},
   "outputs": [
    {
     "name": "stdout",
     "output_type": "stream",
     "text": [
      "Model bhatia_cnn_model.keras found. Loading the saved model...\n",
      "Model loaded from bhatia_cnn_model.keras\n",
      "Processing image: ./Custom MNIST Samples/Digit 3/3_2.png\n",
      "\n",
      "1/1 [==============================] - ETA: 0s\n",
      "1/1 [==============================] - 0s 256ms/step\n",
      "Figure(640x480)\n",
      "Fail: Image ./Custom MNIST Samples/Digit 3/3_2.png is for digit 3 but the inference result is 1.\n"
     ]
    }
   ],
   "source": [
    "!python module8.py \"./Custom MNIST Samples/Digit 3/3_2.png\" 3"
   ]
  },
  {
   "cell_type": "code",
   "execution_count": 19,
   "metadata": {},
   "outputs": [
    {
     "name": "stdout",
     "output_type": "stream",
     "text": [
      "Model bhatia_cnn_model.keras found. Loading the saved model...\n",
      "Model loaded from bhatia_cnn_model.keras\n",
      "Processing image: ./Custom MNIST Samples/Digit 3/3_3.png\n",
      "\n",
      "1/1 [==============================] - ETA: 0s\n",
      "1/1 [==============================] - 0s 276ms/step\n",
      "Figure(640x480)\n",
      "Fail: Image ./Custom MNIST Samples/Digit 3/3_3.png is for digit 3 but the inference result is 1.\n"
     ]
    }
   ],
   "source": [
    "!python module8.py \"./Custom MNIST Samples/Digit 3/3_3.png\" 3"
   ]
  },
  {
   "cell_type": "code",
   "execution_count": 20,
   "metadata": {},
   "outputs": [
    {
     "name": "stdout",
     "output_type": "stream",
     "text": [
      "Model bhatia_cnn_model.keras found. Loading the saved model...\n",
      "Model loaded from bhatia_cnn_model.keras\n",
      "Processing image: ./Custom MNIST Samples/Digit 3/3_4.png\n",
      "\n",
      "1/1 [==============================] - ETA: 0s\n",
      "1/1 [==============================] - 0s 260ms/step\n",
      "Figure(640x480)\n",
      "Fail: Image ./Custom MNIST Samples/Digit 3/3_4.png is for digit 3 but the inference result is 1.\n"
     ]
    }
   ],
   "source": [
    "!python module8.py \"./Custom MNIST Samples/Digit 3/3_4.png\" 3"
   ]
  },
  {
   "cell_type": "code",
   "execution_count": 21,
   "metadata": {},
   "outputs": [
    {
     "name": "stdout",
     "output_type": "stream",
     "text": [
      "Model bhatia_cnn_model.keras found. Loading the saved model...\n",
      "Model loaded from bhatia_cnn_model.keras\n",
      "Processing image: ./Custom MNIST Samples/Digit 4/4_0.png\n",
      "\n",
      "1/1 [==============================] - ETA: 0s\n",
      "1/1 [==============================] - 0s 250ms/step\n",
      "Figure(640x480)\n",
      "Fail: Image ./Custom MNIST Samples/Digit 4/4_0.png is for digit 4 but the inference result is 1.\n"
     ]
    }
   ],
   "source": [
    "!python module8.py \"./Custom MNIST Samples/Digit 4/4_0.png\" 4"
   ]
  },
  {
   "cell_type": "code",
   "execution_count": 22,
   "metadata": {},
   "outputs": [
    {
     "name": "stdout",
     "output_type": "stream",
     "text": [
      "Model bhatia_cnn_model.keras found. Loading the saved model...\n",
      "Model loaded from bhatia_cnn_model.keras\n",
      "Processing image: ./Custom MNIST Samples/Digit 4/4_1.png\n",
      "\n",
      "1/1 [==============================] - ETA: 0s\n",
      "1/1 [==============================] - 0s 286ms/step\n",
      "Figure(640x480)\n",
      "Fail: Image ./Custom MNIST Samples/Digit 4/4_1.png is for digit 4 but the inference result is 1.\n"
     ]
    }
   ],
   "source": [
    "!python module8.py \"./Custom MNIST Samples/Digit 4/4_1.png\" 4"
   ]
  },
  {
   "cell_type": "code",
   "execution_count": 23,
   "metadata": {},
   "outputs": [
    {
     "name": "stdout",
     "output_type": "stream",
     "text": [
      "Model bhatia_cnn_model.keras found. Loading the saved model...\n",
      "Model loaded from bhatia_cnn_model.keras\n",
      "Processing image: ./Custom MNIST Samples/Digit 4/4_4.png\n",
      "\n",
      "1/1 [==============================] - ETA: 0s\n",
      "1/1 [==============================] - 0s 253ms/step\n",
      "Figure(640x480)\n",
      "Fail: Image ./Custom MNIST Samples/Digit 4/4_4.png is for digit 4 but the inference result is 1.\n"
     ]
    }
   ],
   "source": [
    "!python module8.py \"./Custom MNIST Samples/Digit 4/4_4.png\" 4"
   ]
  },
  {
   "cell_type": "code",
   "execution_count": 26,
   "metadata": {},
   "outputs": [
    {
     "name": "stdout",
     "output_type": "stream",
     "text": [
      "Model bhatia_cnn_model.keras found. Loading the saved model...\n",
      "Model loaded from bhatia_cnn_model.keras\n",
      "Processing image: ./Custom MNIST Samples/Digit 4/4_3.png\n",
      "\n",
      "1/1 [==============================] - ETA: 0s\n",
      "1/1 [==============================] - 0s 261ms/step\n",
      "Figure(640x480)\n",
      "Fail: Image ./Custom MNIST Samples/Digit 4/4_3.png is for digit 4 but the inference result is 1.\n"
     ]
    }
   ],
   "source": [
    "!python module8.py \"./Custom MNIST Samples/Digit 4/4_3.png\" 4"
   ]
  },
  {
   "cell_type": "code",
   "execution_count": 24,
   "metadata": {},
   "outputs": [
    {
     "name": "stdout",
     "output_type": "stream",
     "text": [
      "Model bhatia_cnn_model.keras found. Loading the saved model...\n",
      "Model loaded from bhatia_cnn_model.keras\n",
      "Processing image: ./Custom MNIST Samples/Digit 5/5_0.png\n",
      "\n",
      "1/1 [==============================] - ETA: 0s\n",
      "1/1 [==============================] - 0s 268ms/step\n",
      "Figure(640x480)\n",
      "Fail: Image ./Custom MNIST Samples/Digit 5/5_0.png is for digit 5 but the inference result is 1.\n"
     ]
    }
   ],
   "source": [
    "!python module8.py \"./Custom MNIST Samples/Digit 5/5_0.png\" 5"
   ]
  },
  {
   "cell_type": "code",
   "execution_count": 25,
   "metadata": {},
   "outputs": [
    {
     "name": "stdout",
     "output_type": "stream",
     "text": [
      "Model bhatia_cnn_model.keras found. Loading the saved model...\n",
      "Model loaded from bhatia_cnn_model.keras\n",
      "Processing image: ./Custom MNIST Samples/Digit 5/5_1.png\n",
      "\n",
      "1/1 [==============================] - ETA: 0s\n",
      "1/1 [==============================] - 0s 250ms/step\n",
      "Figure(640x480)\n",
      "Fail: Image ./Custom MNIST Samples/Digit 5/5_1.png is for digit 5 but the inference result is 1.\n"
     ]
    }
   ],
   "source": [
    "!python module8.py \"./Custom MNIST Samples/Digit 5/5_1.png\" 5"
   ]
  },
  {
   "cell_type": "code",
   "execution_count": 26,
   "metadata": {},
   "outputs": [
    {
     "name": "stdout",
     "output_type": "stream",
     "text": [
      "Model bhatia_cnn_model.keras found. Loading the saved model...\n",
      "Model loaded from bhatia_cnn_model.keras\n",
      "Processing image: ./Custom MNIST Samples/Digit 5/5_2.png\n",
      "\n",
      "1/1 [==============================] - ETA: 0s\n",
      "1/1 [==============================] - 0s 276ms/step\n",
      "Figure(640x480)\n",
      "Fail: Image ./Custom MNIST Samples/Digit 5/5_2.png is for digit 5 but the inference result is 1.\n"
     ]
    }
   ],
   "source": [
    "!python module8.py \"./Custom MNIST Samples/Digit 5/5_2.png\" 5"
   ]
  },
  {
   "cell_type": "code",
   "execution_count": 27,
   "metadata": {},
   "outputs": [
    {
     "name": "stdout",
     "output_type": "stream",
     "text": [
      "Model bhatia_cnn_model.keras found. Loading the saved model...\n",
      "Model loaded from bhatia_cnn_model.keras\n",
      "Processing image: ./Custom MNIST Samples/Digit 5/5_3.png\n",
      "\n",
      "1/1 [==============================] - ETA: 0s\n",
      "1/1 [==============================] - 0s 318ms/step\n",
      "Figure(640x480)\n",
      "Fail: Image ./Custom MNIST Samples/Digit 5/5_3.png is for digit 5 but the inference result is 1.\n"
     ]
    }
   ],
   "source": [
    "!python module8.py \"./Custom MNIST Samples/Digit 5/5_3.png\" 5"
   ]
  },
  {
   "cell_type": "code",
   "execution_count": 27,
   "metadata": {},
   "outputs": [
    {
     "name": "stdout",
     "output_type": "stream",
     "text": [
      "Model bhatia_cnn_model.keras found. Loading the saved model...\n",
      "Model loaded from bhatia_cnn_model.keras\n",
      "Processing image: ./Custom MNIST Samples/Digit 5/5_4.png\n",
      "\n",
      "1/1 [==============================] - ETA: 0s\n",
      "1/1 [==============================] - 0s 275ms/step\n",
      "Figure(640x480)\n",
      "Fail: Image ./Custom MNIST Samples/Digit 5/5_4.png is for digit 5 but the inference result is 1.\n"
     ]
    }
   ],
   "source": [
    "!python module8.py \"./Custom MNIST Samples/Digit 5/5_4.png\" 5"
   ]
  },
  {
   "cell_type": "code",
   "execution_count": 28,
   "metadata": {},
   "outputs": [
    {
     "name": "stdout",
     "output_type": "stream",
     "text": [
      "Model bhatia_cnn_model.keras found. Loading the saved model...\n",
      "Model loaded from bhatia_cnn_model.keras\n",
      "Processing image: ./Custom MNIST Samples/Digit 6/6_0.png\n",
      "\n",
      "1/1 [==============================] - ETA: 0s\n",
      "1/1 [==============================] - 0s 263ms/step\n",
      "Figure(640x480)\n",
      "Fail: Image ./Custom MNIST Samples/Digit 6/6_0.png is for digit 6 but the inference result is 1.\n"
     ]
    }
   ],
   "source": [
    "!python module8.py \"./Custom MNIST Samples/Digit 6/6_0.png\" 6"
   ]
  },
  {
   "cell_type": "code",
   "execution_count": 29,
   "metadata": {},
   "outputs": [
    {
     "name": "stdout",
     "output_type": "stream",
     "text": [
      "Model bhatia_cnn_model.keras found. Loading the saved model...\n",
      "Model loaded from bhatia_cnn_model.keras\n",
      "Processing image: ./Custom MNIST Samples/Digit 6/6_1.png\n",
      "\n",
      "1/1 [==============================] - ETA: 0s\n",
      "1/1 [==============================] - 0s 339ms/step\n",
      "Figure(640x480)\n",
      "Fail: Image ./Custom MNIST Samples/Digit 6/6_1.png is for digit 6 but the inference result is 1.\n"
     ]
    }
   ],
   "source": [
    "!python module8.py \"./Custom MNIST Samples/Digit 6/6_1.png\" 6"
   ]
  },
  {
   "cell_type": "code",
   "execution_count": 30,
   "metadata": {},
   "outputs": [
    {
     "name": "stdout",
     "output_type": "stream",
     "text": [
      "Model bhatia_cnn_model.keras found. Loading the saved model...\n",
      "Model loaded from bhatia_cnn_model.keras\n",
      "Processing image: ./Custom MNIST Samples/Digit 6/6_2.png\n",
      "\n",
      "1/1 [==============================] - ETA: 0s\n",
      "1/1 [==============================] - 0s 247ms/step\n",
      "Figure(640x480)\n",
      "Fail: Image ./Custom MNIST Samples/Digit 6/6_2.png is for digit 6 but the inference result is 1.\n"
     ]
    }
   ],
   "source": [
    "!python module8.py \"./Custom MNIST Samples/Digit 6/6_2.png\" 6"
   ]
  },
  {
   "cell_type": "code",
   "execution_count": 28,
   "metadata": {},
   "outputs": [
    {
     "name": "stdout",
     "output_type": "stream",
     "text": [
      "Model bhatia_cnn_model.keras found. Loading the saved model...\n",
      "Model loaded from bhatia_cnn_model.keras\n",
      "Processing image: ./Custom MNIST Samples/Digit 6/6_3.png\n",
      "\n",
      "1/1 [==============================] - ETA: 0s\n",
      "1/1 [==============================] - 0s 268ms/step\n",
      "Figure(640x480)\n",
      "Fail: Image ./Custom MNIST Samples/Digit 6/6_3.png is for digit 6 but the inference result is 1.\n"
     ]
    }
   ],
   "source": [
    "!python module8.py \"./Custom MNIST Samples/Digit 6/6_3.png\" 6"
   ]
  },
  {
   "cell_type": "code",
   "execution_count": 31,
   "metadata": {},
   "outputs": [
    {
     "name": "stdout",
     "output_type": "stream",
     "text": [
      "Model bhatia_cnn_model.keras found. Loading the saved model...\n",
      "Model loaded from bhatia_cnn_model.keras\n",
      "Processing image: ./Custom MNIST Samples/Digit 7/7_0.png\n",
      "\n",
      "1/1 [==============================] - ETA: 0s\n",
      "1/1 [==============================] - 0s 251ms/step\n",
      "Figure(640x480)\n",
      "Fail: Image ./Custom MNIST Samples/Digit 7/7_0.png is for digit 7 but the inference result is 1.\n"
     ]
    }
   ],
   "source": [
    "!python module8.py \"./Custom MNIST Samples/Digit 7/7_0.png\" 7"
   ]
  },
  {
   "cell_type": "code",
   "execution_count": 32,
   "metadata": {},
   "outputs": [
    {
     "name": "stdout",
     "output_type": "stream",
     "text": [
      "Model bhatia_cnn_model.keras found. Loading the saved model...\n",
      "Model loaded from bhatia_cnn_model.keras\n",
      "Processing image: ./Custom MNIST Samples/Digit 7/7_1.png\n",
      "\n",
      "1/1 [==============================] - ETA: 0s\n",
      "1/1 [==============================] - 0s 263ms/step\n",
      "Figure(640x480)\n",
      "Fail: Image ./Custom MNIST Samples/Digit 7/7_1.png is for digit 7 but the inference result is 1.\n"
     ]
    }
   ],
   "source": [
    "!python module8.py \"./Custom MNIST Samples/Digit 7/7_1.png\" 7"
   ]
  },
  {
   "cell_type": "code",
   "execution_count": 33,
   "metadata": {},
   "outputs": [
    {
     "name": "stdout",
     "output_type": "stream",
     "text": [
      "Model bhatia_cnn_model.keras found. Loading the saved model...\n",
      "Model loaded from bhatia_cnn_model.keras\n",
      "Processing image: ./Custom MNIST Samples/Digit 7/7_2.png\n",
      "\n",
      "1/1 [==============================] - ETA: 0s\n",
      "1/1 [==============================] - 0s 270ms/step\n",
      "Figure(640x480)\n",
      "Fail: Image ./Custom MNIST Samples/Digit 7/7_2.png is for digit 7 but the inference result is 1.\n"
     ]
    }
   ],
   "source": [
    "!python module8.py \"./Custom MNIST Samples/Digit 7/7_2.png\" 7"
   ]
  },
  {
   "cell_type": "code",
   "execution_count": 29,
   "metadata": {},
   "outputs": [
    {
     "name": "stdout",
     "output_type": "stream",
     "text": [
      "Model bhatia_cnn_model.keras found. Loading the saved model...\n",
      "Model loaded from bhatia_cnn_model.keras\n",
      "Processing image: ./Custom MNIST Samples/Digit 7/7_3.png\n",
      "\n",
      "1/1 [==============================] - ETA: 0s\n",
      "1/1 [==============================] - 0s 268ms/step\n",
      "Figure(640x480)\n",
      "Fail: Image ./Custom MNIST Samples/Digit 7/7_3.png is for digit 7 but the inference result is 1.\n"
     ]
    }
   ],
   "source": [
    "!python module8.py \"./Custom MNIST Samples/Digit 7/7_3.png\" 7"
   ]
  },
  {
   "cell_type": "code",
   "execution_count": 34,
   "metadata": {},
   "outputs": [
    {
     "name": "stdout",
     "output_type": "stream",
     "text": [
      "Model bhatia_cnn_model.keras found. Loading the saved model...\n",
      "Model loaded from bhatia_cnn_model.keras\n",
      "Processing image: ./Custom MNIST Samples/Digit 8/8_0.png\n",
      "\n",
      "1/1 [==============================] - ETA: 0s\n",
      "1/1 [==============================] - 0s 254ms/step\n",
      "Figure(640x480)\n",
      "Fail: Image ./Custom MNIST Samples/Digit 8/8_0.png is for digit 8 but the inference result is 1.\n"
     ]
    }
   ],
   "source": [
    "!python module8.py \"./Custom MNIST Samples/Digit 8/8_0.png\" 8"
   ]
  },
  {
   "cell_type": "code",
   "execution_count": 35,
   "metadata": {},
   "outputs": [
    {
     "name": "stdout",
     "output_type": "stream",
     "text": [
      "Model bhatia_cnn_model.keras found. Loading the saved model...\n",
      "Model loaded from bhatia_cnn_model.keras\n",
      "Processing image: ./Custom MNIST Samples/Digit 8/8_1.png\n",
      "\n",
      "1/1 [==============================] - ETA: 0s\n",
      "1/1 [==============================] - 0s 261ms/step\n",
      "Figure(640x480)\n",
      "Fail: Image ./Custom MNIST Samples/Digit 8/8_1.png is for digit 8 but the inference result is 1.\n"
     ]
    }
   ],
   "source": [
    "!python module8.py \"./Custom MNIST Samples/Digit 8/8_1.png\" 8"
   ]
  },
  {
   "cell_type": "code",
   "execution_count": 36,
   "metadata": {},
   "outputs": [
    {
     "name": "stdout",
     "output_type": "stream",
     "text": [
      "Model bhatia_cnn_model.keras found. Loading the saved model...\n",
      "Model loaded from bhatia_cnn_model.keras\n",
      "Processing image: ./Custom MNIST Samples/Digit 8/8_2.png\n",
      "\n",
      "1/1 [==============================] - ETA: 0s\n",
      "1/1 [==============================] - 0s 260ms/step\n",
      "Figure(640x480)\n",
      "Fail: Image ./Custom MNIST Samples/Digit 8/8_2.png is for digit 8 but the inference result is 1.\n"
     ]
    }
   ],
   "source": [
    "!python module8.py \"./Custom MNIST Samples/Digit 8/8_2.png\" 8"
   ]
  },
  {
   "cell_type": "code",
   "execution_count": 30,
   "metadata": {},
   "outputs": [
    {
     "name": "stdout",
     "output_type": "stream",
     "text": [
      "Model bhatia_cnn_model.keras found. Loading the saved model...\n",
      "Model loaded from bhatia_cnn_model.keras\n",
      "Processing image: ./Custom MNIST Samples/Digit 8/8_3.png\n",
      "\n",
      "1/1 [==============================] - ETA: 0s\n",
      "1/1 [==============================] - 0s 271ms/step\n",
      "Figure(640x480)\n",
      "Fail: Image ./Custom MNIST Samples/Digit 8/8_3.png is for digit 8 but the inference result is 1.\n"
     ]
    }
   ],
   "source": [
    "!python module8.py \"./Custom MNIST Samples/Digit 8/8_3.png\" 8"
   ]
  },
  {
   "cell_type": "code",
   "execution_count": 37,
   "metadata": {},
   "outputs": [
    {
     "name": "stdout",
     "output_type": "stream",
     "text": [
      "Model bhatia_cnn_model.keras found. Loading the saved model...\n",
      "Model loaded from bhatia_cnn_model.keras\n",
      "Processing image: ./Custom MNIST Samples/Digit 9/9_0.png\n",
      "\n",
      "1/1 [==============================] - ETA: 0s\n",
      "1/1 [==============================] - 0s 251ms/step\n",
      "Figure(640x480)\n",
      "Fail: Image ./Custom MNIST Samples/Digit 9/9_0.png is for digit 9 but the inference result is 1.\n"
     ]
    }
   ],
   "source": [
    "!python module8.py \"./Custom MNIST Samples/Digit 9/9_0.png\" 9"
   ]
  },
  {
   "cell_type": "code",
   "execution_count": 38,
   "metadata": {},
   "outputs": [
    {
     "name": "stdout",
     "output_type": "stream",
     "text": [
      "Model bhatia_cnn_model.keras found. Loading the saved model...\n",
      "Model loaded from bhatia_cnn_model.keras\n",
      "Processing image: ./Custom MNIST Samples/Digit 9/9_1.png\n",
      "\n",
      "1/1 [==============================] - ETA: 0s\n",
      "1/1 [==============================] - 0s 242ms/step\n",
      "Figure(640x480)\n",
      "Fail: Image ./Custom MNIST Samples/Digit 9/9_1.png is for digit 9 but the inference result is 1.\n"
     ]
    }
   ],
   "source": [
    "!python module8.py \"./Custom MNIST Samples/Digit 9/9_1.png\" 9"
   ]
  },
  {
   "cell_type": "code",
   "execution_count": 39,
   "metadata": {},
   "outputs": [
    {
     "name": "stdout",
     "output_type": "stream",
     "text": [
      "Model bhatia_cnn_model.keras found. Loading the saved model...\n",
      "Model loaded from bhatia_cnn_model.keras\n",
      "Processing image: ./Custom MNIST Samples/Digit 9/9_2.png\n",
      "\n",
      "1/1 [==============================] - ETA: 0s\n",
      "1/1 [==============================] - 0s 243ms/step\n",
      "Figure(640x480)\n",
      "Fail: Image ./Custom MNIST Samples/Digit 9/9_2.png is for digit 9 but the inference result is 1.\n"
     ]
    }
   ],
   "source": [
    "!python module8.py \"./Custom MNIST Samples/Digit 9/9_2.png\" 9"
   ]
  },
  {
   "cell_type": "code",
   "execution_count": 32,
   "metadata": {},
   "outputs": [
    {
     "name": "stdout",
     "output_type": "stream",
     "text": [
      "Model bhatia_cnn_model.keras found. Loading the saved model...\n",
      "Model loaded from bhatia_cnn_model.keras\n",
      "Processing image: ./Custom MNIST Samples/Digit 9/9_3.png\n",
      "\n",
      "1/1 [==============================] - ETA: 0s\n",
      "1/1 [==============================] - 0s 254ms/step\n",
      "Figure(640x480)\n",
      "Fail: Image ./Custom MNIST Samples/Digit 9/9_3.png is for digit 9 but the inference result is 1.\n"
     ]
    }
   ],
   "source": [
    "!python module8.py \"./Custom MNIST Samples/Digit 9/9_3.png\" 9"
   ]
  },
  {
   "cell_type": "code",
   "execution_count": 40,
   "metadata": {},
   "outputs": [
    {
     "name": "stdout",
     "output_type": "stream",
     "text": [
      "Model bhatia_cnn_model.keras found. Loading the saved model...\n",
      "Model loaded from bhatia_cnn_model.keras\n",
      "Processing image: ./Custom MNIST Samples/Digit 9/9_4.png\n",
      "\n",
      "1/1 [==============================] - ETA: 0s\n",
      "1/1 [==============================] - 0s 249ms/step\n",
      "Figure(640x480)\n",
      "Fail: Image ./Custom MNIST Samples/Digit 9/9_4.png is for digit 9 but the inference result is 1.\n"
     ]
    }
   ],
   "source": [
    "!python module8.py \"./Custom MNIST Samples/Digit 9/9_4.png\" 9"
   ]
  },
  {
   "cell_type": "code",
   "execution_count": null,
   "metadata": {},
   "outputs": [],
   "source": []
  }
 ],
 "metadata": {
  "kernelspec": {
   "display_name": "teachable",
   "language": "python",
   "name": "python3"
  },
  "language_info": {
   "codemirror_mode": {
    "name": "ipython",
    "version": 3
   },
   "file_extension": ".py",
   "mimetype": "text/x-python",
   "name": "python",
   "nbconvert_exporter": "python",
   "pygments_lexer": "ipython3",
   "version": "3.11.10"
  }
 },
 "nbformat": 4,
 "nbformat_minor": 2
}
