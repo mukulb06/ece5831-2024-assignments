{
 "cells": [
  {
   "cell_type": "markdown",
   "metadata": {},
   "source": [
    "Importing logic_gate as lg and using the class lg.LogicGate as gate"
   ]
  },
  {
   "cell_type": "code",
   "execution_count": 1,
   "metadata": {},
   "outputs": [
    {
     "data": {
      "text/plain": [
       "'logic_gate'"
      ]
     },
     "execution_count": 1,
     "metadata": {},
     "output_type": "execute_result"
    }
   ],
   "source": [
    "import logic_gate as lg\n",
    "gate = lg.LogicGate()\n",
    "lg.__name__"
   ]
  },
  {
   "cell_type": "markdown",
   "metadata": {},
   "source": [
    "Creating test cases"
   ]
  },
  {
   "cell_type": "code",
   "execution_count": 6,
   "metadata": {},
   "outputs": [
    {
     "name": "stdout",
     "output_type": "stream",
     "text": [
      "The test cases are  [[0, 0], [0, 1], [1, 0], [1, 1]]\n"
     ]
    }
   ],
   "source": [
    "tests = [[0, 0], [0, 1], [1, 0], [1, 1]]\n",
    "print(\"The test cases are \", tests)"
   ]
  },
  {
   "cell_type": "markdown",
   "metadata": {},
   "source": [
    "Testing AND gate"
   ]
  },
  {
   "cell_type": "code",
   "execution_count": 3,
   "metadata": {},
   "outputs": [
    {
     "name": "stdout",
     "output_type": "stream",
     "text": [
      "Test for AND gate\n",
      "0 = AND(0, 0)\n",
      "0 = AND(0, 1)\n",
      "0 = AND(1, 0)\n",
      "1 = AND(1, 1)\n"
     ]
    }
   ],
   "source": [
    "print('Test for AND gate')\n",
    "for test in tests:\n",
    "    y = gate.and_gate(test[0], test[1])\n",
    "    print(f'{y} = AND({test[0]}, {test[1]})')"
   ]
  },
  {
   "cell_type": "markdown",
   "metadata": {},
   "source": [
    "Testing OR gate"
   ]
  },
  {
   "cell_type": "code",
   "execution_count": 7,
   "metadata": {},
   "outputs": [
    {
     "name": "stdout",
     "output_type": "stream",
     "text": [
      "\n",
      "Test for OR gate\n",
      "0 = OR(0, 0)\n",
      "1 = OR(0, 1)\n",
      "1 = OR(1, 0)\n",
      "1 = OR(1, 1)\n"
     ]
    }
   ],
   "source": [
    "print('\\nTest for OR gate')\n",
    "for test in tests:\n",
    "    y = gate.or_gate(test[0], test[1])\n",
    "    print(f'{y} = OR({test[0]}, {test[1]})')"
   ]
  },
  {
   "cell_type": "markdown",
   "metadata": {},
   "source": [
    "Testing NAND gate"
   ]
  },
  {
   "cell_type": "code",
   "execution_count": 8,
   "metadata": {},
   "outputs": [
    {
     "name": "stdout",
     "output_type": "stream",
     "text": [
      "\n",
      "Test for NAND gate\n",
      "1 = NAND(0, 0)\n",
      "1 = NAND(0, 1)\n",
      "1 = NAND(1, 0)\n",
      "0 = NAND(1, 1)\n"
     ]
    }
   ],
   "source": [
    "print('\\nTest for NAND gate')\n",
    "for test in tests:\n",
    "    y = gate.nand_gate(test[0], test[1])\n",
    "    print(f'{y} = NAND({test[0]}, {test[1]})')"
   ]
  },
  {
   "cell_type": "markdown",
   "metadata": {},
   "source": [
    "Testing NOR gate"
   ]
  },
  {
   "cell_type": "code",
   "execution_count": 9,
   "metadata": {},
   "outputs": [
    {
     "name": "stdout",
     "output_type": "stream",
     "text": [
      "\n",
      "Test for NOR gate\n",
      "1 = NOR(0, 0)\n",
      "0 = NOR(0, 1)\n",
      "0 = NOR(1, 0)\n",
      "0 = NOR(1, 1)\n"
     ]
    }
   ],
   "source": [
    "print('\\nTest for NOR gate')\n",
    "for test in tests:\n",
    "    y = gate.nor_gate(test[0], test[1])\n",
    "    print(f'{y} = NOR({test[0]}, {test[1]})')"
   ]
  },
  {
   "cell_type": "markdown",
   "metadata": {},
   "source": [
    "Testing XOR gate"
   ]
  },
  {
   "cell_type": "code",
   "execution_count": 10,
   "metadata": {},
   "outputs": [
    {
     "name": "stdout",
     "output_type": "stream",
     "text": [
      "\n",
      "Test for XOR gate\n",
      "0 = XOR(0, 0)\n",
      "1 = XOR(0, 1)\n",
      "1 = XOR(1, 0)\n",
      "0 = XOR(1, 1)\n"
     ]
    }
   ],
   "source": [
    "print('\\nTest for XOR gate')\n",
    "for test in tests:\n",
    "    y = gate.xor_gate(test[0], test[1])\n",
    "    print(f'{y} = XOR({test[0]}, {test[1]})')"
   ]
  }
 ],
 "metadata": {
  "kernelspec": {
   "display_name": "ec583-2024",
   "language": "python",
   "name": "python3"
  },
  "language_info": {
   "codemirror_mode": {
    "name": "ipython",
    "version": 3
   },
   "file_extension": ".py",
   "mimetype": "text/x-python",
   "name": "python",
   "nbconvert_exporter": "python",
   "pygments_lexer": "ipython3",
   "version": "3.10.14"
  }
 },
 "nbformat": 4,
 "nbformat_minor": 2
}
